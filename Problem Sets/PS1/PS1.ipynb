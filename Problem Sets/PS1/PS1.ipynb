{
 "cells": [
  {
   "cell_type": "markdown",
   "metadata": {},
   "source": [
    "# Problem Set 1\n",
    "\n",
    "### DSME 6756: Business Intelligence Techniques and Applications (Winter 2023)\n",
    "\n",
    "### Due at 9:30AM, Monday, December 11, 2023\n",
    "\n",
    "Please read the Jupyter Notebook of Session 1 and finish the questions below. Finish the questions in this Jupyter Notebook and submit your solutions with code on Blackboard. The total achievable points are 6 for this problem set. Please rename this Jupyter Notebook as\n",
    "\n",
    "- `YourLastName_YourFirstName_PS1.ipynb` (e.g., `Zhang_Renyu_PS1.ipynb`)"
   ]
  },
  {
   "cell_type": "code",
   "execution_count": null,
   "metadata": {},
   "outputs": [],
   "source": [
    "# Before we you finish the exercises, you may want to import the commonly used packages.\n",
    "\n",
    "import sys \n",
    "import math\n",
    "import numpy as np\n",
    "import pandas as pd\n",
    "import statsmodels as sm\n",
    "import sklearn\n",
    "import scipy as sp\n",
    "%matplotlib inline \n",
    "# This is to enable plotting in Jupyter directly.\n",
    "import matplotlib.pyplot as plt"
   ]
  },
  {
   "cell_type": "markdown",
   "metadata": {},
   "source": [
    "### 1. Writing Python Functions (3 points)\n",
    "\n",
    "#### 1(a). (1 point) \n",
    "A sequence $\\{A_n:n\\ge1\\}$ satisfies that $A_1=1$, $A_2=1$, and $A_{n+2}=A_{n+1}+A_{n}+2n$ for $n\\ge1$. Write a Python function to find the value of $A_{n}$ for a given positive integer $n$. Use your function to compute $A_{50}$. Use unit tests to check if you get things correctly."
   ]
  },
  {
   "cell_type": "code",
   "execution_count": null,
   "metadata": {},
   "outputs": [],
   "source": [
    "def A(n):\n",
    "    \"\"\"\n",
    "    Calculates the value of the sequence element A_n for a given positive integer n.\n",
    "    The sequence is defined as:\n",
    "        A_1 = 1, A_2 = 1, and A_{n+2} = A_{n+1} + A_{n} + 2n for n >= 1\n",
    "\n",
    "    Args:\n",
    "    n (int): A positive integer representing the position in the sequence.\n",
    "\n",
    "    Returns:\n",
    "    int: The value of the sequence element A_n.\n",
    "    \"\"\"\n",
    "    # Base cases\n",
    "    if n == 1 or n == 2:\n",
    "        return 1\n",
    "    \n",
    "    temp_1 = 1 # Temporary variable for A_{n-1}\n",
    "    temp_2 = 1 # Temporary variable for A_{n-2}\n",
    "    \n",
    "    # Calculate the general cases using a for loop\n",
    "    \n",
    "    ### ENTER YOUR CODE HERE ###\n",
    "       \n",
    "    return y # y is A_n\n",
    "\n",
    "\n",
    "# Unit test for the A() function\n",
    "def test_A():\n",
    "    assert A(1) == 1, \"Test failed for n = 1\"\n",
    "    assert A(2) == 1, \"Test failed for n = 2\"\n",
    "    assert A(3) == 4, \"Test failed for n = 3\"  # Updated test case\n",
    "    assert A(4) == 9, \"Test failed for n = 4\"  # Updated test case\n",
    "    assert A(5) == 19, \"Test failed for n = 5\" # Updated test case\n",
    "\n",
    "    print(\"All tests passed!\")\n",
    "\n",
    "# Running the unit test\n",
    "test_A()\n",
    "\n",
    "# Compute A(50)\n",
    "\n",
    "print(A(50))"
   ]
  },
  {
   "cell_type": "markdown",
   "metadata": {},
   "source": [
    "#### 1(b). (1 point) \n",
    "We define $\\left(\\begin{matrix}n\\\\m\\end{matrix}\\right)$ as the coefficient of binomial expansion for $(1+x)^n$ ($m=0,1,2,\\cdots,n$). Hence, $\\left(\\begin{matrix}n\\\\m\\end{matrix}\\right)$ is the coefficient of $x^m$ in $(1+x)^n$, where $m=0,1,2,\\cdots,n$. We know from the property of binomial coefficients that $\\left(\\begin{matrix}n\\\\m\\end{matrix}\\right)+\\left(\\begin{matrix}n\\\\m+1\\end{matrix}\\right)=\\left(\\begin{matrix}n+1\\\\m+1\\end{matrix}\\right)$ for all $n$ and all $0\\le m\\le n-1$. Please write a Python function to compute $\\left(\\begin{matrix}n\\\\m\\end{matrix}\\right)$ for any $n\\ge m\\ge0$. Please use a different approach from the one used in Session 1's class. Compute $\\left(\\begin{matrix}40\\\\20\\end{matrix}\\right)$. Use unit tests to check if you get things correctly."
   ]
  },
  {
   "cell_type": "code",
   "execution_count": null,
   "metadata": {},
   "outputs": [],
   "source": [
    "def binomial_coefficient(n, m):\n",
    "    \"\"\"\n",
    "    Calculates the binomial coefficient (n choose m) using the factorial method.\n",
    "    \n",
    "    :param n: The upper number in the binomial coefficient.\n",
    "    :param m: The lower number in the binomial coefficient.\n",
    "    :return: The value of (n choose m).\n",
    "    \"\"\"\n",
    "    if m < 0 or m > n:\n",
    "        return 0\n",
    "    \n",
    "    ### ENTER YOUR CODE HERE ###    \n",
    "    \n",
    "    return y # y is the value of (n choose m)\n",
    "\n",
    "    \n",
    "#Unit tests for the binomial_coefficient function.\n",
    " \n",
    "def test_binomial_coefficient():\n",
    "    # Test cases\n",
    "    assert binomial_coefficient(5, 2) == 10\n",
    "    assert binomial_coefficient(6, 3) == 20\n",
    "    assert binomial_coefficient(0, 0) == 1\n",
    "    assert binomial_coefficient(5, 5) == 1\n",
    "    assert binomial_coefficient(10, 0) == 1\n",
    "    assert binomial_coefficient(10, 1) == 10\n",
    "    assert binomial_coefficient(10, 10) == 1\n",
    "    assert binomial_coefficient(10, 3) == 120\n",
    "\n",
    "    # Test the property (n choose m) + (n choose m+1) = (n+1 choose m+1)\n",
    "    for n in range(1, 10):\n",
    "        for m in range(n):\n",
    "            assert binomial_coefficient(n, m) + binomial_coefficient(n, m + 1) == binomial_coefficient(n + 1, m + 1)\n",
    "\n",
    "    print(\"All tests passed.\")\n",
    "\n",
    "# Run the unit tests\n",
    "test_binomial_coefficient()\n",
    "\n",
    "# Compute (40 choose 20)\n",
    "print(binomial_coefficient(40,20))"
   ]
  },
  {
   "cell_type": "markdown",
   "metadata": {},
   "source": [
    "#### 1(c). (1 point)\n",
    "Find the least common multiple of $(p,q,r)$ given that $p$, $q$, and $r$ are positive integers. Compute the least common multiple of $(123,234,345)$. Use unit tests to check if you get things correctly."
   ]
  },
  {
   "cell_type": "code",
   "execution_count": null,
   "metadata": {},
   "outputs": [],
   "source": [
    "## The least common multiple of (p,q,r) is the least common multiple of (a) the least common multiple of (p,q)\n",
    "## and (b) r.\n",
    "\n",
    "def lcm(x, y):\n",
    "    \"\"\"\n",
    "    Calculate the least common multiple (LCM) of two numbers.\n",
    "\n",
    "    :param x: First number.\n",
    "    :param y: Second number.\n",
    "    :return: LCM of x and y.\n",
    "    \"\"\"\n",
    "    if x<0 or y<0:\n",
    "        return 0\n",
    "    \n",
    "    ### ENTER YOUR CODE HERE ###    \n",
    "    \n",
    "    # Hint: You may use the while loop.\n",
    "\n",
    "    return z # z is the least common multiple of x and y\n",
    "\n",
    "def lcm_three(p, q, r):\n",
    "    \"\"\"\n",
    "    Calculate the least common multiple (LCM) of three numbers.\n",
    "\n",
    "    :param p: First number.\n",
    "    :param q: Second number.\n",
    "    :param r: Third number.\n",
    "    :return: LCM of p, q, and r.\n",
    "    \"\"\"\n",
    "    return lcm(lcm(p, q), r)\n",
    "\n",
    "def test_lcm_three():\n",
    "    \"\"\"\n",
    "    Unit tests for the lcm_three function.\n",
    "    \"\"\"\n",
    "    assert lcm_three(3, 4, 5) == 60\n",
    "    assert lcm_three(2, 7, 3) == 42\n",
    "    assert lcm_three(1, 1, 1) == 1\n",
    "    assert lcm_three(6, 8, 9) == 72\n",
    "    assert lcm_three(10, 15, 20) == 60\n",
    "    assert lcm_three(12, 15, 20) == 60\n",
    "\n",
    "    print(\"All tests passed.\")\n",
    "\n",
    "# Run the unit tests\n",
    "test_lcm_three()"
   ]
  },
  {
   "cell_type": "markdown",
   "metadata": {},
   "source": [
    "### 2. Playing with the WHO Data Set (3 points)\n",
    "\n",
    "Please read the data set `WHO.csv` into Python and answer the following questions:"
   ]
  },
  {
   "cell_type": "markdown",
   "metadata": {},
   "source": [
    "#### 2(a). (0.5 point) Missing Data.\n",
    "\n",
    "Which variables have at least THREE missing (i.e., NA) value?"
   ]
  },
  {
   "cell_type": "code",
   "execution_count": null,
   "metadata": {},
   "outputs": [],
   "source": [
    "# Import the data and take a look at the data.\n",
    "\n",
    "df_who = pd.read_csv(\"WHO.csv\")\n",
    "\n",
    "df_who.head()\n",
    "\n",
    "# Hint: You can use the functions .isna() and .sum() from Pandas DataFrame.\n",
    "\n",
    "### ENTER YOUR CODE HERE ###    "
   ]
  },
  {
   "cell_type": "markdown",
   "metadata": {},
   "source": [
    "#### 2(b). (0.5 point) \n",
    "\n",
    "Which country has the highest and lowest fertility rate?"
   ]
  },
  {
   "cell_type": "code",
   "execution_count": null,
   "metadata": {},
   "outputs": [],
   "source": [
    "# Hint: In Python, \"equal to\" is represented as \"==\". For example,\n",
    "\n",
    "df_who[df_who['Population'] == 29825]"
   ]
  },
  {
   "cell_type": "code",
   "execution_count": null,
   "metadata": {},
   "outputs": [],
   "source": [
    "### ENTER YOUR CODE HERE ###    "
   ]
  },
  {
   "cell_type": "markdown",
   "metadata": {},
   "source": [
    "#### 2(c). (0.5 point) \n",
    "\n",
    "Which region has the minimum variation (measured by standard deviation) in Gross National Income (GNI)? What is the standard deviation of GNI in this region?"
   ]
  },
  {
   "cell_type": "code",
   "execution_count": null,
   "metadata": {},
   "outputs": [],
   "source": [
    "# Hint: You may need to use the .groupby() function of Pandas DataFrame. \n",
    "\n",
    "### ENTER YOUR CODE HERE ###    "
   ]
  },
  {
   "cell_type": "markdown",
   "metadata": {},
   "source": [
    "#### 2(d). (0.5 point) \n",
    "\n",
    "We define a country to be a rich country if its GNI exceeds 20,000. What is the mean child mortality of the rich countries?"
   ]
  },
  {
   "cell_type": "code",
   "execution_count": null,
   "metadata": {},
   "outputs": [],
   "source": [
    "# Hint: You need to first use conditional selection to select the set of rich countries.\n",
    "\n",
    "# Then you need to compute the average child mortality rate of these countries.\n",
    "\n",
    "### ENTER YOUR CODE HERE ###"
   ]
  },
  {
   "cell_type": "markdown",
   "metadata": {},
   "source": [
    "#### 2(e). (0.5 point) \n",
    "\n",
    "Demonstrate the relationship between income level vs. life expectancy through calculating their correlations and visualization."
   ]
  },
  {
   "cell_type": "code",
   "execution_count": null,
   "metadata": {},
   "outputs": [],
   "source": [
    "# Use the scatter plot to demonstrate the relationship.\n",
    "\n",
    "# Extract the GNI and LifeExpectancy vector as Numpy Arrays.\n",
    "\n",
    "Income = np.array(df_who['GNI'])\n",
    "Life_Exp = np.array(df_who['LifeExpectancy'])\n",
    "\n",
    "# Draw the scatter plot.\n",
    "\n",
    "### ENTER YOUR CODE HERE ###"
   ]
  },
  {
   "cell_type": "code",
   "execution_count": null,
   "metadata": {},
   "outputs": [],
   "source": [
    "# Use the .corr() function of the Pandas DataFrame library to compute the correlation.\n",
    "\n",
    "### ENTER YOUR CODE HERE ###"
   ]
  },
  {
   "cell_type": "markdown",
   "metadata": {},
   "source": [
    "# End of Problem Set 1"
   ]
  }
 ],
 "metadata": {
  "kernelspec": {
   "display_name": "Python 3 (ipykernel)",
   "language": "python",
   "name": "python3"
  },
  "language_info": {
   "codemirror_mode": {
    "name": "ipython",
    "version": 3
   },
   "file_extension": ".py",
   "mimetype": "text/x-python",
   "name": "python",
   "nbconvert_exporter": "python",
   "pygments_lexer": "ipython3",
   "version": "3.11.5"
  }
 },
 "nbformat": 4,
 "nbformat_minor": 2
}
