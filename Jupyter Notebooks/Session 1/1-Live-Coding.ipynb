{
 "cells": [
  {
   "cell_type": "code",
   "execution_count": 3,
   "metadata": {},
   "outputs": [],
   "source": [
    "import sys \n",
    "import numpy as np\n",
    "import pandas as pd\n",
    "import statsmodels as sm\n",
    "import sklearn\n",
    "import scipy as sp\n",
    "%matplotlib inline \n",
    "# This is to enable plotting in Jupyter directly.\n",
    "import matplotlib.pyplot as plt"
   ]
  },
  {
   "cell_type": "markdown",
   "metadata": {},
   "source": [
    "## Problem 1\n",
    "\n",
    "Given $(m,n)$, where $m\\le n$ are non-negative integers, compute the binomial coefficient for the term $x^m$ in $(1+x)^m$."
   ]
  },
  {
   "cell_type": "markdown",
   "metadata": {},
   "source": [
    "## Problem 2\n",
    "\n",
    "The income tax rate of Hong Kong is summarized as follows.\n",
    "\n",
    "- For the annual income between 0 and 50,000 HKD, the tax rate is 0.\n",
    "- For the annual income between 50,001 HKD and 100,000 HKD, the tax rate is 6%.\n",
    "- For the annual income between 100,001 HKD and 150,000 HKD, the tax rate is 10%.\n",
    "- For the annual income between 150,001 HKD and 200,000 HKD, the tax rate is 14%.\n",
    "- For the annual income higher than 200,000 HKD, the tax rate is 17%.\n",
    "\n",
    "Given the annual pre-tax income $x$, compute the tax. "
   ]
  },
  {
   "cell_type": "markdown",
   "metadata": {},
   "source": [
    "## Problem 3\n",
    "\n",
    "Given a non-negative number $x$, compute $\\sqrt{x}$."
   ]
  },
  {
   "cell_type": "markdown",
   "metadata": {},
   "source": [
    "## Problem 4\n",
    "\n",
    "Given two positive integers $(m,n)$, compute the greatest common divisor."
   ]
  },
  {
   "cell_type": "code",
   "execution_count": null,
   "metadata": {},
   "outputs": [],
   "source": []
  }
 ],
 "metadata": {
  "kernelspec": {
   "display_name": "Python 3 (ipykernel)",
   "language": "python",
   "name": "python3"
  },
  "language_info": {
   "codemirror_mode": {
    "name": "ipython",
    "version": 3
   },
   "file_extension": ".py",
   "mimetype": "text/x-python",
   "name": "python",
   "nbconvert_exporter": "python",
   "pygments_lexer": "ipython3",
   "version": "3.11.5"
  }
 },
 "nbformat": 4,
 "nbformat_minor": 2
}
